{
 "cells": [
  {
   "cell_type": "code",
   "execution_count": 1,
   "id": "ea59ff8e",
   "metadata": {},
   "outputs": [],
   "source": [
    "test = (1,4,2)"
   ]
  },
  {
   "cell_type": "code",
   "execution_count": 2,
   "id": "0ac3baa5",
   "metadata": {},
   "outputs": [
    {
     "data": {
      "text/plain": [
       "[1, 2, 4]"
      ]
     },
     "execution_count": 2,
     "metadata": {},
     "output_type": "execute_result"
    }
   ],
   "source": [
    "sorted(test)"
   ]
  },
  {
   "cell_type": "code",
   "execution_count": 3,
   "id": "a6d579d1",
   "metadata": {},
   "outputs": [],
   "source": [
    "test = sorted(test)"
   ]
  },
  {
   "cell_type": "code",
   "execution_count": 4,
   "id": "ce64c70e",
   "metadata": {},
   "outputs": [
    {
     "data": {
      "text/plain": [
       "[1, 2, 4]"
      ]
     },
     "execution_count": 4,
     "metadata": {},
     "output_type": "execute_result"
    }
   ],
   "source": [
    "test"
   ]
  },
  {
   "cell_type": "code",
   "execution_count": 5,
   "id": "9d671fe4",
   "metadata": {},
   "outputs": [],
   "source": [
    "toto = (1,4,2)"
   ]
  },
  {
   "cell_type": "code",
   "execution_count": 6,
   "id": "212c06e3",
   "metadata": {},
   "outputs": [],
   "source": [
    "titi = toto"
   ]
  },
  {
   "cell_type": "code",
   "execution_count": 7,
   "id": "514f9e2c",
   "metadata": {},
   "outputs": [
    {
     "data": {
      "text/plain": [
       "(1, 4, 2)"
      ]
     },
     "execution_count": 7,
     "metadata": {},
     "output_type": "execute_result"
    }
   ],
   "source": [
    "titi"
   ]
  },
  {
   "cell_type": "code",
   "execution_count": 8,
   "id": "992fc5f6",
   "metadata": {},
   "outputs": [],
   "source": [
    "toto = sorted(toto)"
   ]
  },
  {
   "cell_type": "code",
   "execution_count": 9,
   "id": "9375939b",
   "metadata": {},
   "outputs": [
    {
     "data": {
      "text/plain": [
       "[1, 2, 4]"
      ]
     },
     "execution_count": 9,
     "metadata": {},
     "output_type": "execute_result"
    }
   ],
   "source": [
    "toto"
   ]
  },
  {
   "cell_type": "code",
   "execution_count": 10,
   "id": "47c70815",
   "metadata": {},
   "outputs": [
    {
     "data": {
      "text/plain": [
       "(1, 4, 2)"
      ]
     },
     "execution_count": 10,
     "metadata": {},
     "output_type": "execute_result"
    }
   ],
   "source": [
    "titi"
   ]
  },
  {
   "cell_type": "code",
   "execution_count": 11,
   "id": "e32a75bf",
   "metadata": {},
   "outputs": [],
   "source": [
    "NT = (1,2,(\"pop\", \"rock\"), (3,4), (\"disco\", (1,2)))"
   ]
  },
  {
   "cell_type": "code",
   "execution_count": 12,
   "id": "49f2100d",
   "metadata": {},
   "outputs": [
    {
     "data": {
      "text/plain": [
       "'rock'"
      ]
     },
     "execution_count": 12,
     "metadata": {},
     "output_type": "execute_result"
    }
   ],
   "source": [
    "NT[2][1] "
   ]
  },
  {
   "cell_type": "code",
   "execution_count": 13,
   "id": "3b2012ba",
   "metadata": {},
   "outputs": [
    {
     "data": {
      "text/plain": [
       "(1, 2, ('pop', 'rock'), (3, 4), ('disco', (1, 2)))"
      ]
     },
     "execution_count": 13,
     "metadata": {},
     "output_type": "execute_result"
    }
   ],
   "source": [
    "NT"
   ]
  },
  {
   "cell_type": "code",
   "execution_count": 14,
   "id": "0eb6e88c",
   "metadata": {},
   "outputs": [
    {
     "data": {
      "text/plain": [
       "[4]"
      ]
     },
     "execution_count": 14,
     "metadata": {},
     "output_type": "execute_result"
    }
   ],
   "source": [
    "test[2:3]"
   ]
  },
  {
   "cell_type": "code",
   "execution_count": 15,
   "id": "a8880f18",
   "metadata": {},
   "outputs": [
    {
     "data": {
      "text/plain": [
       "[2]"
      ]
     },
     "execution_count": 15,
     "metadata": {},
     "output_type": "execute_result"
    }
   ],
   "source": [
    "test[1:2]"
   ]
  },
  {
   "cell_type": "code",
   "execution_count": 16,
   "id": "39329ec8",
   "metadata": {},
   "outputs": [
    {
     "data": {
      "text/plain": [
       "[2, 4]"
      ]
     },
     "execution_count": 16,
     "metadata": {},
     "output_type": "execute_result"
    }
   ],
   "source": [
    "test[1:3]"
   ]
  },
  {
   "cell_type": "code",
   "execution_count": null,
   "id": "6612c4e3",
   "metadata": {},
   "outputs": [],
   "source": []
  }
 ],
 "metadata": {
  "kernelspec": {
   "display_name": "Python 3 (ipykernel)",
   "language": "python",
   "name": "python3"
  },
  "language_info": {
   "codemirror_mode": {
    "name": "ipython",
    "version": 3
   },
   "file_extension": ".py",
   "mimetype": "text/x-python",
   "name": "python",
   "nbconvert_exporter": "python",
   "pygments_lexer": "ipython3",
   "version": "3.9.1"
  }
 },
 "nbformat": 4,
 "nbformat_minor": 5
}
